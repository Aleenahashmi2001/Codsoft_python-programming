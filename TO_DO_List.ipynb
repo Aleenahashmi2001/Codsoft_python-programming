{
  "nbformat": 4,
  "nbformat_minor": 0,
  "metadata": {
    "colab": {
      "provenance": []
    },
    "kernelspec": {
      "name": "python3",
      "display_name": "Python 3"
    },
    "language_info": {
      "name": "python"
    }
  },
  "cells": [
    {
      "cell_type": "code",
      "execution_count": null,
      "metadata": {
        "id": "YP4BPV0k1l1Y",
        "colab": {
          "base_uri": "https://localhost:8080/"
        },
        "outputId": "0e535725-f2ac-4df6-c8ea-9119915f986b"
      },
      "outputs": [
        {
          "output_type": "stream",
          "name": "stdout",
          "text": [
            "\n",
            "Options:\n",
            "1. Add Task\n",
            "2. View Tasks\n",
            "3. Mark Task as Done\n",
            "4. Exit\n",
            "Enter your choice: 1\n",
            "Enter the task: study\n",
            "Task added:  study\n",
            "\n",
            "Options:\n",
            "1. Add Task\n",
            "2. View Tasks\n",
            "3. Mark Task as Done\n",
            "4. Exit\n",
            "Enter your choice: 1\n",
            "Enter the task: prayer\n",
            "Task added:  prayer\n",
            "\n",
            "Options:\n",
            "1. Add Task\n",
            "2. View Tasks\n",
            "3. Mark Task as Done\n",
            "4. Exit\n",
            "Enter your choice: 2\n",
            "Your To-Do List:\n",
            "1. study\n",
            "2. prayer\n",
            "\n",
            "Options:\n",
            "1. Add Task\n",
            "2. View Tasks\n",
            "3. Mark Task as Done\n",
            "4. Exit\n",
            "Enter your choice: 3\n",
            "Enter the task number to mark as done: 2\n",
            "Task 'prayer' marked as done.\n",
            "\n",
            "Options:\n",
            "1. Add Task\n",
            "2. View Tasks\n",
            "3. Mark Task as Done\n",
            "4. Exit\n",
            "Enter your choice: 4\n",
            "Goodbye!\n"
          ]
        }
      ],
      "source": [
        "class TodoList:\n",
        "    def __init__(self):\n",
        "        self.tasks = []\n",
        "\n",
        "    def add_task(self, task):\n",
        "        self.tasks.append(task)\n",
        "        print(\"Task added: \", task)\n",
        "\n",
        "    def view_tasks(self):\n",
        "        if self.tasks:\n",
        "            print(\"Your To-Do List:\")\n",
        "            for index, task in enumerate(self.tasks, start=1):\n",
        "                print(f\"{index}. {task}\")\n",
        "        else:\n",
        "            print(\"Your To-Do List is empty.\")\n",
        "\n",
        "    def mark_done(self, task_index):\n",
        "        if 1 <= task_index <= len(self.tasks):\n",
        "            task = self.tasks[task_index - 1]\n",
        "            print(f\"Task '{task}' marked as done.\")\n",
        "            del self.tasks[task_index - 1]\n",
        "        else:\n",
        "            print(\"Invalid task index.\")\n",
        "\n",
        "def main():\n",
        "    todo_list = TodoList()\n",
        "\n",
        "    while True:\n",
        "        print(\"\\nOptions:\")\n",
        "        print(\"1. Add Task\")\n",
        "        print(\"2. View Tasks\")\n",
        "        print(\"3. Mark Task as Done\")\n",
        "        print(\"4. Exit\")\n",
        "\n",
        "        choice = input(\"Enter your choice: \")\n",
        "\n",
        "        if choice == \"1\":\n",
        "            task = input(\"Enter the task: \")\n",
        "            todo_list.add_task(task)\n",
        "        elif choice == \"2\":\n",
        "            todo_list.view_tasks()\n",
        "        elif choice == \"3\":\n",
        "            task_index = int(input(\"Enter the task number to mark as done: \"))\n",
        "            todo_list.mark_done(task_index)\n",
        "        elif choice == \"4\":\n",
        "            print(\"Goodbye!\")\n",
        "            break\n",
        "        else:\n",
        "            print(\"Invalid choice. Please try again.\")\n",
        "\n",
        "if __name__ == \"__main__\":\n",
        "    main()\n"
      ]
    },
    {
      "cell_type": "code",
      "source": [],
      "metadata": {
        "id": "kjCIMaVu1ucq"
      },
      "execution_count": null,
      "outputs": []
    }
  ]
}