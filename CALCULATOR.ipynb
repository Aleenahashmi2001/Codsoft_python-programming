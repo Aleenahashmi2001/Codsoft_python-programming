{
  "nbformat": 4,
  "nbformat_minor": 0,
  "metadata": {
    "colab": {
      "provenance": []
    },
    "kernelspec": {
      "name": "python3",
      "display_name": "Python 3"
    },
    "language_info": {
      "name": "python"
    }
  },
  "cells": [
    {
      "cell_type": "code",
      "execution_count": null,
      "metadata": {
        "id": "bzODERXM2EWA",
        "colab": {
          "base_uri": "https://localhost:8080/"
        },
        "outputId": "d374b396-ee30-4c4d-c5ea-3469b7d5da81"
      },
      "outputs": [
        {
          "output_type": "stream",
          "name": "stdout",
          "text": [
            "Options:\n",
            "1. Addition\n",
            "2. Subtraction\n",
            "3. Multiplication\n",
            "4. Division\n",
            "5. Exit\n",
            "Enter your choice (1-5): 1\n",
            "Enter first number: 234\n",
            "Enter second number: 976\n",
            "Result:  1210.0\n",
            "Options:\n",
            "1. Addition\n",
            "2. Subtraction\n",
            "3. Multiplication\n",
            "4. Division\n",
            "5. Exit\n",
            "Enter your choice (1-5): 2\n",
            "Enter first number: 875\n",
            "Enter second number: 253\n",
            "Result:  622.0\n",
            "Options:\n",
            "1. Addition\n",
            "2. Subtraction\n",
            "3. Multiplication\n",
            "4. Division\n",
            "5. Exit\n",
            "Enter your choice (1-5): 3\n",
            "Enter first number: 9897\n",
            "Enter second number: 5657\n",
            "Result:  55987329.0\n",
            "Options:\n",
            "1. Addition\n",
            "2. Subtraction\n",
            "3. Multiplication\n",
            "4. Division\n",
            "5. Exit\n",
            "Enter your choice (1-5): 4\n",
            "Enter first number: 585\n",
            "Enter second number: 5\n",
            "Result:  117.0\n",
            "Options:\n",
            "1. Addition\n",
            "2. Subtraction\n",
            "3. Multiplication\n",
            "4. Division\n",
            "5. Exit\n",
            "Enter your choice (1-5): 5\n",
            "Goodbye!\n"
          ]
        }
      ],
      "source": [
        "def add(x, y):\n",
        "    return x + y\n",
        "\n",
        "def subtract(x, y):\n",
        "    return x - y\n",
        "\n",
        "def multiply(x, y):\n",
        "    return x * y\n",
        "\n",
        "def divide(x, y):\n",
        "    if y == 0:\n",
        "        return \"Error! Division by zero.\"\n",
        "    return x / y\n",
        "\n",
        "while True:\n",
        "    print(\"Options:\")\n",
        "    print(\"1. Addition\")\n",
        "    print(\"2. Subtraction\")\n",
        "    print(\"3. Multiplication\")\n",
        "    print(\"4. Division\")\n",
        "    print(\"5. Exit\")\n",
        "\n",
        "    choice = input(\"Enter your choice (1-5): \")\n",
        "\n",
        "    if choice in ['1', '2', '3', '4']:\n",
        "        num1 = float(input(\"Enter first number: \"))\n",
        "        num2 = float(input(\"Enter second number: \"))\n",
        "\n",
        "        if choice == '1':\n",
        "            print(\"Result: \", add(num1, num2))\n",
        "        elif choice == '2':\n",
        "            print(\"Result: \", subtract(num1, num2))\n",
        "        elif choice == '3':\n",
        "            print(\"Result: \", multiply(num1, num2))\n",
        "        elif choice == '4':\n",
        "            print(\"Result: \", divide(num1, num2))\n",
        "    elif choice == '5':\n",
        "        print(\"Goodbye!\")\n",
        "        break\n",
        "    else:\n",
        "        print(\"Invalid choice. Please try again.\")\n"
      ]
    },
    {
      "cell_type": "code",
      "source": [],
      "metadata": {
        "id": "0VRmy6Dr2a4a"
      },
      "execution_count": null,
      "outputs": []
    }
  ]
}