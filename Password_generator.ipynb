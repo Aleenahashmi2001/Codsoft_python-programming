{
  "nbformat": 4,
  "nbformat_minor": 0,
  "metadata": {
    "colab": {
      "provenance": []
    },
    "kernelspec": {
      "name": "python3",
      "display_name": "Python 3"
    },
    "language_info": {
      "name": "python"
    }
  },
  "cells": [
    {
      "cell_type": "code",
      "source": [
        "import random\n",
        "import string\n",
        "\n",
        "def generate_password(length, include_special_characters=True):\n",
        "    characters = string.ascii_letters + string.digits\n",
        "    if include_special_characters:\n",
        "        characters += string.punctuation\n",
        "    password = ''.join(random.choice(characters) for _ in range(length))\n",
        "    return password\n",
        "\n",
        "def get_password_length():\n",
        "    while True:\n",
        "        try:\n",
        "            password_length = int(input(\"Enter the desired length of the password: \"))\n",
        "            if password_length <= 0:\n",
        "                print(\"Invalid input. Password length should be a positive integer.\")\n",
        "            else:\n",
        "                return password_length\n",
        "        except ValueError:\n",
        "            print(\"Invalid input. Please enter a valid integer for the password length.\")\n",
        "\n",
        "def include_special_characters_choice():\n",
        "    while True:\n",
        "        choice = input(\"Include special characters? (yes/no): \").lower()\n",
        "        if choice in ['yes', 'no']:\n",
        "            return choice == 'yes'\n",
        "        else:\n",
        "            print(\"Invalid choice. Please enter 'yes' or 'no'.\")\n",
        "\n",
        "def main():\n",
        "    password_length = get_password_length()\n",
        "    include_special_chars = include_special_characters_choice()\n",
        "    generated_password = generate_password(password_length, include_special_chars)\n",
        "    print(\"Generated Password: \", generated_password)\n",
        "\n",
        "if __name__ == \"__main__\":\n",
        "    main()\n"
      ],
      "metadata": {
        "colab": {
          "base_uri": "https://localhost:8080/"
        },
        "id": "jxkQkJqqRuDg",
        "outputId": "bb0a7788-892d-44c9-ac17-906c7c647b5d"
      },
      "execution_count": null,
      "outputs": [
        {
          "output_type": "stream",
          "name": "stdout",
          "text": [
            "Enter the desired length of the password: 7\n",
            "Include special characters? (yes/no): yes\n",
            "Generated Password:  On,W8V.\n"
          ]
        }
      ]
    },
    {
      "cell_type": "code",
      "source": [],
      "metadata": {
        "id": "JnxGVLYmSEsU"
      },
      "execution_count": null,
      "outputs": []
    }
  ]
}